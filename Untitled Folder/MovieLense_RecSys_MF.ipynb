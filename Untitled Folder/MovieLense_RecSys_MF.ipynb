{
 "cells": [
  {
   "cell_type": "code",
   "execution_count": 42,
   "id": "231d2213",
   "metadata": {},
   "outputs": [],
   "source": [
    "import pandas as pd\n",
    "import numpy as np"
   ]
  },
  {
   "cell_type": "code",
   "execution_count": 43,
   "id": "37523f80",
   "metadata": {},
   "outputs": [],
   "source": [
    "column_names=['user_id', 'item_id', 'rating', 'timestamp']\n",
    "df = pd.read_csv('C:/Users/saads/RecSys/u.data', sep=\"\\t\", names=column_names)"
   ]
  },
  {
   "cell_type": "code",
   "execution_count": 44,
   "id": "8b79ace1",
   "metadata": {},
   "outputs": [],
   "source": [
    "movie_db = pd.read_csv(\"C:/Users/saads/RecSys/Movie_Id_Titles (1).txt\")"
   ]
  },
  {
   "cell_type": "code",
   "execution_count": 45,
   "id": "d6cabb4f",
   "metadata": {},
   "outputs": [
    {
     "data": {
      "text/html": [
       "<div>\n",
       "<style scoped>\n",
       "    .dataframe tbody tr th:only-of-type {\n",
       "        vertical-align: middle;\n",
       "    }\n",
       "\n",
       "    .dataframe tbody tr th {\n",
       "        vertical-align: top;\n",
       "    }\n",
       "\n",
       "    .dataframe thead th {\n",
       "        text-align: right;\n",
       "    }\n",
       "</style>\n",
       "<table border=\"1\" class=\"dataframe\">\n",
       "  <thead>\n",
       "    <tr style=\"text-align: right;\">\n",
       "      <th></th>\n",
       "      <th>user_id</th>\n",
       "      <th>item_id</th>\n",
       "      <th>rating</th>\n",
       "      <th>timestamp</th>\n",
       "      <th>title</th>\n",
       "    </tr>\n",
       "  </thead>\n",
       "  <tbody>\n",
       "    <tr>\n",
       "      <th>0</th>\n",
       "      <td>0</td>\n",
       "      <td>50</td>\n",
       "      <td>5</td>\n",
       "      <td>881250949</td>\n",
       "      <td>Star Wars (1977)</td>\n",
       "    </tr>\n",
       "    <tr>\n",
       "      <th>1</th>\n",
       "      <td>290</td>\n",
       "      <td>50</td>\n",
       "      <td>5</td>\n",
       "      <td>880473582</td>\n",
       "      <td>Star Wars (1977)</td>\n",
       "    </tr>\n",
       "    <tr>\n",
       "      <th>2</th>\n",
       "      <td>79</td>\n",
       "      <td>50</td>\n",
       "      <td>4</td>\n",
       "      <td>891271545</td>\n",
       "      <td>Star Wars (1977)</td>\n",
       "    </tr>\n",
       "    <tr>\n",
       "      <th>3</th>\n",
       "      <td>2</td>\n",
       "      <td>50</td>\n",
       "      <td>5</td>\n",
       "      <td>888552084</td>\n",
       "      <td>Star Wars (1977)</td>\n",
       "    </tr>\n",
       "    <tr>\n",
       "      <th>4</th>\n",
       "      <td>8</td>\n",
       "      <td>50</td>\n",
       "      <td>5</td>\n",
       "      <td>879362124</td>\n",
       "      <td>Star Wars (1977)</td>\n",
       "    </tr>\n",
       "  </tbody>\n",
       "</table>\n",
       "</div>"
      ],
      "text/plain": [
       "   user_id  item_id  rating  timestamp             title\n",
       "0        0       50       5  881250949  Star Wars (1977)\n",
       "1      290       50       5  880473582  Star Wars (1977)\n",
       "2       79       50       4  891271545  Star Wars (1977)\n",
       "3        2       50       5  888552084  Star Wars (1977)\n",
       "4        8       50       5  879362124  Star Wars (1977)"
      ]
     },
     "execution_count": 45,
     "metadata": {},
     "output_type": "execute_result"
    }
   ],
   "source": [
    "df = pd.merge(df,movie_db, on=\"item_id\")\n",
    "df.head()"
   ]
  },
  {
   "cell_type": "code",
   "execution_count": 46,
   "id": "0fd794bf",
   "metadata": {},
   "outputs": [
    {
     "data": {
      "text/plain": [
       "(944, 1682)"
      ]
     },
     "execution_count": 46,
     "metadata": {},
     "output_type": "execute_result"
    }
   ],
   "source": [
    "moviePivot = df.pivot_table(index=\"user_id\", columns=\"item_id\" , values=\"rating\" , aggfunc=\"mean\")\n",
    "moviePivot.shape"
   ]
  },
  {
   "cell_type": "code",
   "execution_count": 47,
   "id": "c77ef2fe",
   "metadata": {},
   "outputs": [
    {
     "name": "stdout",
     "output_type": "stream",
     "text": [
      "R matrix dimensions are: (944, 1682)\n"
     ]
    }
   ],
   "source": [
    "# Handle missing values properly\n",
    "R_original = moviePivot.values\n",
    "\n",
    "# Create missing mask (True = missing/NaN, False = has rating)\n",
    "missing_mark = (np.isnan(R_original))\n",
    "\n",
    "# Fill NaN with 0 for matrix factorization\n",
    "R = np.nan_to_num(R_original)\n",
    "# Get matrix dimensions\n",
    "print(f\"R matrix dimensions are: {R.shape}\")\n",
    "# Scale ratings for better convergence (optional but recommended)"
   ]
  },
  {
   "cell_type": "code",
   "execution_count": 48,
   "id": "fba66068",
   "metadata": {},
   "outputs": [],
   "source": [
    "num_user,num_items = R.shape\n",
    "\n",
    "# Initialize matrices\n",
    "K=10 # latent features\n",
    "np.random.seed(42)\n",
    "\n",
    "P = np.random.rand(num_user,K) * 0.01\n",
    "Q = np.random.rand(num_items,K) * 0.01\n",
    "\n"
   ]
  },
  {
   "cell_type": "code",
   "execution_count": 56,
   "id": "362a059d",
   "metadata": {},
   "outputs": [],
   "source": [
    "def matrix_factorization(R, P, Q, K, steps=20, alpha=0.002, beta=0.02):\n",
    "    \"\"\"\n",
    "    Fixed matrix factorization with proper error calculation\n",
    "    \"\"\"\n",
    "    \n",
    "    Q = Q.T\n",
    "    for step in range(steps):\n",
    "       \n",
    "        for i in range(R.shape[0]):\n",
    "            for j in range(R.shape[1]):\n",
    "                if R[i,j] > 0:\n",
    "                    eij = R[i,j] - np.dot(P[i, :], Q[:, j])\n",
    "                    for k in range(K):\n",
    "                        P[i,k] += alpha * (2 * eij * Q[k,j] - beta * P[i,k])\n",
    "                        Q[k,j] += alpha * (2 * eij * P[i,k] - beta * Q[k,j])\n",
    "        \n",
    "      \n",
    "        if step % 10 == 0:\n",
    "            error = 0\n",
    "            for i in range(R.shape[0]):\n",
    "                for j in range(R.shape[1]):\n",
    "                    if R[i,j] > 0:\n",
    "                        error += (R[i,j] - np.dot(P[i, :], Q[:, j])) ** 2\n",
    "            \n",
    "            # Add regularization terms (once per step)\n",
    "            error += (beta/2) * (np.sum(P**2) + np.sum(Q**2))\n",
    "            print(f\"Step {step}, error: {error:.4f}\")\n",
    "                \n",
    "    return P, Q.T"
   ]
  },
  {
   "cell_type": "code",
   "execution_count": 58,
   "id": "57d4055a",
   "metadata": {},
   "outputs": [
    {
     "name": "stdout",
     "output_type": "stream",
     "text": [
      "Running matrix factorization....\n",
      "Step 0, error: 59216.1000\n",
      "Step 10, error: 56663.2108\n",
      "Step 20, error: 54952.9278\n",
      "Step 30, error: 53732.7606\n",
      "Step 40, error: 52826.6602\n"
     ]
    }
   ],
   "source": [
    "# Run matrix factorization\n",
    "print(\"Running matrix factorization....\")\n",
    "nP, nQ = matrix_factorization(R,P,Q,K,steps=50)\n",
    "\n",
    "# Generate predictions (scale back to original range)\n",
    "predicted_ratings = np.dot(nP,nQ.T)"
   ]
  },
  {
   "cell_type": "code",
   "execution_count": 74,
   "id": "6c5b7dff",
   "metadata": {},
   "outputs": [
    {
     "name": "stdout",
     "output_type": "stream",
     "text": [
      "Top 5 recommendations for User 1:\n",
      "Return of the Jedi (1983) - Predicted rating: 4.22\n",
      "Raiders of the Lost Ark (1981) - Predicted rating: 4.16\n",
      "Princess Bride, The (1987) - Predicted rating: 4.15\n",
      "Usual Suspects, The (1995) - Predicted rating: 4.06\n",
      "Blues Brothers, The (1980) - Predicted rating: 3.96\n"
     ]
    }
   ],
   "source": [
    "movie_mapping = dict(zip(df['item_id'], df['title']))\n",
    "def recommend_movies(user_id, predicted_ratings, movie_names, missing_mark, top_n=5):\n",
    "    # Get user index - handle both 0-indexed and 1-indexed user_ids\n",
    "    user_idx = user_id - 1 if user_id > 0 and user_id <= len(missing_mark) else user_id\n",
    "    \n",
    "    # Find unrated movies and get top recommendations\n",
    "    unrated_indices = np.where(missing_mark[user_idx])[0]\n",
    "    if len(unrated_indices) == 0:\n",
    "        print(f\"User {user_id} has rated all movies!\")\n",
    "        return\n",
    "    \n",
    "    # Sort unrated movies by predicted rating (highest first)\n",
    "    top_indices = unrated_indices[np.argsort(predicted_ratings[user_idx][unrated_indices])[::-1]]\n",
    "    \n",
    "    print(f\"Top {top_n} recommendations for User {user_id}:\")\n",
    "    for idx in top_indices[:top_n]:\n",
    "        movie_id = moviePivot.columns[idx]  # Get movie ID from pivot columns\n",
    "        movie_name = movie_mapping.get(movie_id, f\"Movie ID {movie_id}\")\n",
    "        print(f\"{movie_name} - Predicted rating: {predicted_ratings[user_idx][idx]:.2f}\")\n",
    "\n",
    "# Usage\n",
    "movie_ids = list(moviePivot.columns)\n",
    "recommend_movies(1, predicted_ratings, movie_names, missing_mark, top_n=5)"
   ]
  },
  {
   "cell_type": "code",
   "execution_count": 76,
   "id": "15b7b8ac",
   "metadata": {},
   "outputs": [],
   "source": [
    "!git remote set-url origin \"https://github.com/SyedSaad42/Matrix_Factorisation_fromScratch.git\""
   ]
  },
  {
   "cell_type": "code",
   "execution_count": 77,
   "id": "cc994105",
   "metadata": {},
   "outputs": [],
   "source": [
    "!git add ."
   ]
  },
  {
   "cell_type": "code",
   "execution_count": 78,
   "id": "e96de364",
   "metadata": {},
   "outputs": [
    {
     "name": "stdout",
     "output_type": "stream",
     "text": [
      "[main 1e08036] Matrix Factorisation (SVD)\n",
      " 5 files changed, 1244 insertions(+), 31 deletions(-)\n",
      " create mode 100644 Untitled Folder/.ipynb_checkpoints/Untitled-checkpoint.ipynb\n",
      " create mode 100644 Untitled Folder/.ipynb_checkpoints/Untitled1-checkpoint.ipynb\n",
      " create mode 100644 Untitled Folder/Untitled.ipynb\n",
      " create mode 100644 Untitled Folder/Untitled1.ipynb\n"
     ]
    }
   ],
   "source": [
    "!git commit -m \"Matrix Factorisation (SVD)\""
   ]
  },
  {
   "cell_type": "code",
   "execution_count": 79,
   "id": "c97f3267",
   "metadata": {},
   "outputs": [],
   "source": [
    "!git branch -M main"
   ]
  },
  {
   "cell_type": "code",
   "execution_count": 80,
   "id": "64187c04",
   "metadata": {},
   "outputs": [
    {
     "name": "stderr",
     "output_type": "stream",
     "text": [
      "To https://github.com/SyedSaad42/Matrix_Factorisation_fromScratch.git\n",
      " * [new branch]      main -> main\n"
     ]
    }
   ],
   "source": [
    "!git push origin main"
   ]
  },
  {
   "cell_type": "code",
   "execution_count": null,
   "id": "a4c1e26f",
   "metadata": {},
   "outputs": [],
   "source": []
  }
 ],
 "metadata": {
  "kernelspec": {
   "display_name": "Python 3 (ipykernel)",
   "language": "python",
   "name": "python3"
  },
  "language_info": {
   "codemirror_mode": {
    "name": "ipython",
    "version": 3
   },
   "file_extension": ".py",
   "mimetype": "text/x-python",
   "name": "python",
   "nbconvert_exporter": "python",
   "pygments_lexer": "ipython3",
   "version": "3.11.5"
  }
 },
 "nbformat": 4,
 "nbformat_minor": 5
}
