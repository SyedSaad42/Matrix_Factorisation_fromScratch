{
 "cells": [
  {
   "cell_type": "code",
   "execution_count": 42,
   "id": "81feb4cc",
   "metadata": {},
   "outputs": [],
   "source": [
    "import pandas as pd\n",
    "import numpy as np"
   ]
  },
  {
   "cell_type": "code",
   "execution_count": 43,
   "id": "e53124bc",
   "metadata": {},
   "outputs": [],
   "source": [
    "column_names=['user_id', 'item_id', 'rating', 'timestamp']\n",
    "df = pd.read_csv('C:/Users/saads/RecSys/u.data', sep=\"\\t\", names=column_names)"
   ]
  },
  {
   "cell_type": "code",
   "execution_count": 44,
   "id": "3579fe40",
   "metadata": {},
   "outputs": [],
   "source": [
    "movie_db = pd.read_csv(\"C:/Users/saads/RecSys/Movie_Id_Titles (1).txt\")"
   ]
  },
  {
   "cell_type": "code",
   "execution_count": 45,
   "id": "bf616385",
   "metadata": {},
   "outputs": [
    {
     "data": {
      "text/html": [
       "<div>\n",
       "<style scoped>\n",
       "    .dataframe tbody tr th:only-of-type {\n",
       "        vertical-align: middle;\n",
       "    }\n",
       "\n",
       "    .dataframe tbody tr th {\n",
       "        vertical-align: top;\n",
       "    }\n",
       "\n",
       "    .dataframe thead th {\n",
       "        text-align: right;\n",
       "    }\n",
       "</style>\n",
       "<table border=\"1\" class=\"dataframe\">\n",
       "  <thead>\n",
       "    <tr style=\"text-align: right;\">\n",
       "      <th></th>\n",
       "      <th>user_id</th>\n",
       "      <th>item_id</th>\n",
       "      <th>rating</th>\n",
       "      <th>timestamp</th>\n",
       "      <th>title</th>\n",
       "    </tr>\n",
       "  </thead>\n",
       "  <tbody>\n",
       "    <tr>\n",
       "      <th>0</th>\n",
       "      <td>0</td>\n",
       "      <td>50</td>\n",
       "      <td>5</td>\n",
       "      <td>881250949</td>\n",
       "      <td>Star Wars (1977)</td>\n",
       "    </tr>\n",
       "    <tr>\n",
       "      <th>1</th>\n",
       "      <td>290</td>\n",
       "      <td>50</td>\n",
       "      <td>5</td>\n",
       "      <td>880473582</td>\n",
       "      <td>Star Wars (1977)</td>\n",
       "    </tr>\n",
       "    <tr>\n",
       "      <th>2</th>\n",
       "      <td>79</td>\n",
       "      <td>50</td>\n",
       "      <td>4</td>\n",
       "      <td>891271545</td>\n",
       "      <td>Star Wars (1977)</td>\n",
       "    </tr>\n",
       "    <tr>\n",
       "      <th>3</th>\n",
       "      <td>2</td>\n",
       "      <td>50</td>\n",
       "      <td>5</td>\n",
       "      <td>888552084</td>\n",
       "      <td>Star Wars (1977)</td>\n",
       "    </tr>\n",
       "    <tr>\n",
       "      <th>4</th>\n",
       "      <td>8</td>\n",
       "      <td>50</td>\n",
       "      <td>5</td>\n",
       "      <td>879362124</td>\n",
       "      <td>Star Wars (1977)</td>\n",
       "    </tr>\n",
       "  </tbody>\n",
       "</table>\n",
       "</div>"
      ],
      "text/plain": [
       "   user_id  item_id  rating  timestamp             title\n",
       "0        0       50       5  881250949  Star Wars (1977)\n",
       "1      290       50       5  880473582  Star Wars (1977)\n",
       "2       79       50       4  891271545  Star Wars (1977)\n",
       "3        2       50       5  888552084  Star Wars (1977)\n",
       "4        8       50       5  879362124  Star Wars (1977)"
      ]
     },
     "execution_count": 45,
     "metadata": {},
     "output_type": "execute_result"
    }
   ],
   "source": [
    "df = pd.merge(df,movie_db, on=\"item_id\")\n",
    "df.head()"
   ]
  },
  {
   "cell_type": "code",
   "execution_count": 46,
   "id": "5f56d6e8",
   "metadata": {},
   "outputs": [
    {
     "data": {
      "text/plain": [
       "(944, 1682)"
      ]
     },
     "execution_count": 46,
     "metadata": {},
     "output_type": "execute_result"
    }
   ],
   "source": [
    "moviePivot = df.pivot_table(index=\"user_id\", columns=\"item_id\" , values=\"rating\" , aggfunc=\"mean\")\n",
    "moviePivot.shape"
   ]
  },
  {
   "cell_type": "code",
   "execution_count": 47,
   "id": "608df7b5",
   "metadata": {},
   "outputs": [
    {
     "name": "stdout",
     "output_type": "stream",
     "text": [
      "R matrix dimensions are: (944, 1682)\n"
     ]
    }
   ],
   "source": [
    "# Handle missing values properly\n",
    "R_original = moviePivot.values\n",
    "\n",
    "# Create missing mask (True = missing/NaN, False = has rating)\n",
    "missing_mark = (np.isnan(R_original))\n",
    "\n",
    "# Fill NaN with 0 for matrix factorization\n",
    "R = np.nan_to_num(R_original)\n",
    "# Get matrix dimensions\n",
    "print(f\"R matrix dimensions are: {R.shape}\")\n",
    "# Scale ratings for better convergence (optional but recommended)"
   ]
  },
  {
   "cell_type": "code",
   "execution_count": 48,
   "id": "6b835663",
   "metadata": {},
   "outputs": [],
   "source": [
    "num_user,num_items = R.shape\n",
    "\n",
    "# Initialize matrices\n",
    "K=10 # latent features\n",
    "np.random.seed(42)\n",
    "\n",
    "P = np.random.rand(num_user,K) * 0.01\n",
    "Q = np.random.rand(num_items,K) * 0.01\n",
    "\n"
   ]
  },
  {
   "cell_type": "code",
   "execution_count": 56,
   "id": "691c2da6",
   "metadata": {},
   "outputs": [],
   "source": [
    "def matrix_factorization(R, P, Q, K, steps=20, alpha=0.002, beta=0.02):\n",
    "    \"\"\"\n",
    "    Fixed matrix factorization with proper error calculation\n",
    "    \"\"\"\n",
    "    \n",
    "    Q = Q.T\n",
    "    for step in range(steps):\n",
    "       \n",
    "        for i in range(R.shape[0]):\n",
    "            for j in range(R.shape[1]):\n",
    "                if R[i,j] > 0:\n",
    "                    eij = R[i,j] - np.dot(P[i, :], Q[:, j])\n",
    "                    for k in range(K):\n",
    "                        P[i,k] += alpha * (2 * eij * Q[k,j] - beta * P[i,k])\n",
    "                        Q[k,j] += alpha * (2 * eij * P[i,k] - beta * Q[k,j])\n",
    "        \n",
    "      \n",
    "        if step % 10 == 0:\n",
    "            error = 0\n",
    "            for i in range(R.shape[0]):\n",
    "                for j in range(R.shape[1]):\n",
    "                    if R[i,j] > 0:\n",
    "                        error += (R[i,j] - np.dot(P[i, :], Q[:, j])) ** 2\n",
    "            \n",
    "            # Add regularization terms (once per step)\n",
    "            error += (beta/2) * (np.sum(P**2) + np.sum(Q**2))\n",
    "            print(f\"Step {step}, error: {error:.4f}\")\n",
    "                \n",
    "    return P, Q.T"
   ]
  },
  {
   "cell_type": "code",
   "execution_count": 58,
   "id": "d806221d",
   "metadata": {},
   "outputs": [
    {
     "name": "stdout",
     "output_type": "stream",
     "text": [
      "Running matrix factorization....\n",
      "Step 0, error: 59216.1000\n",
      "Step 10, error: 56663.2108\n",
      "Step 20, error: 54952.9278\n",
      "Step 30, error: 53732.7606\n",
      "Step 40, error: 52826.6602\n"
     ]
    }
   ],
   "source": [
    "# Run matrix factorization\n",
    "print(\"Running matrix factorization....\")\n",
    "nP, nQ = matrix_factorization(R,P,Q,K,steps=50)\n",
    "\n",
    "# Generate predictions (scale back to original range)\n",
    "predicted_ratings = np.dot(nP,nQ.T)"
   ]
  },
  {
   "cell_type": "code",
   "execution_count": 70,
   "id": "ae87eb09",
   "metadata": {},
   "outputs": [
    {
     "name": "stdout",
     "output_type": "stream",
     "text": [
      "Top 5 recommendations for User 1:\n"
     ]
    },
    {
     "ename": "KeyError",
     "evalue": "'item_id'",
     "output_type": "error",
     "traceback": [
      "\u001b[1;31m---------------------------------------------------------------------------\u001b[0m",
      "\u001b[1;31mKeyError\u001b[0m                                  Traceback (most recent call last)",
      "Cell \u001b[1;32mIn[70], line 23\u001b[0m\n\u001b[0;32m     21\u001b[0m \u001b[38;5;66;03m# Usage\u001b[39;00m\n\u001b[0;32m     22\u001b[0m movie_ids \u001b[38;5;241m=\u001b[39m \u001b[38;5;28mlist\u001b[39m(moviePivot\u001b[38;5;241m.\u001b[39mcolumns)\n\u001b[1;32m---> 23\u001b[0m recommend_movies(\u001b[38;5;241m1\u001b[39m, predicted_ratings, movie_names, missing_mark, top_n\u001b[38;5;241m=\u001b[39m\u001b[38;5;241m5\u001b[39m)\n",
      "Cell \u001b[1;32mIn[70], line 18\u001b[0m, in \u001b[0;36mrecommend_movies\u001b[1;34m(user_id, predicted_ratings, movie_names, missing_mark, top_n)\u001b[0m\n\u001b[0;32m     16\u001b[0m \u001b[38;5;28;01mfor\u001b[39;00m idx \u001b[38;5;129;01min\u001b[39;00m top_indices[:top_n]:\n\u001b[0;32m     17\u001b[0m     movie_id \u001b[38;5;241m=\u001b[39m moviePivot\u001b[38;5;241m.\u001b[39mcolumns[idx]  \u001b[38;5;66;03m# Get actual movie ID\u001b[39;00m\n\u001b[1;32m---> 18\u001b[0m     movie_name \u001b[38;5;241m=\u001b[39m movie_names[movie_names[\u001b[38;5;124m'\u001b[39m\u001b[38;5;124mitem_id\u001b[39m\u001b[38;5;124m'\u001b[39m] \u001b[38;5;241m==\u001b[39m movie_id][\u001b[38;5;124m'\u001b[39m\u001b[38;5;124mtitle\u001b[39m\u001b[38;5;124m'\u001b[39m]\u001b[38;5;241m.\u001b[39miloc[\u001b[38;5;241m0\u001b[39m]\n\u001b[0;32m     19\u001b[0m     \u001b[38;5;28mprint\u001b[39m(\u001b[38;5;124mf\u001b[39m\u001b[38;5;124m\"\u001b[39m\u001b[38;5;132;01m{\u001b[39;00mmovie_name\u001b[38;5;132;01m}\u001b[39;00m\u001b[38;5;124m - Predicted rating: \u001b[39m\u001b[38;5;132;01m{\u001b[39;00mpredicted_ratings[user_idx][idx]\u001b[38;5;132;01m:\u001b[39;00m\u001b[38;5;124m.2f\u001b[39m\u001b[38;5;132;01m}\u001b[39;00m\u001b[38;5;124m\"\u001b[39m)\n",
      "File \u001b[1;32m~\\anaconda3\\Lib\\site-packages\\pandas\\core\\series.py:1007\u001b[0m, in \u001b[0;36mSeries.__getitem__\u001b[1;34m(self, key)\u001b[0m\n\u001b[0;32m   1004\u001b[0m     \u001b[38;5;28;01mreturn\u001b[39;00m \u001b[38;5;28mself\u001b[39m\u001b[38;5;241m.\u001b[39m_values[key]\n\u001b[0;32m   1006\u001b[0m \u001b[38;5;28;01melif\u001b[39;00m key_is_scalar:\n\u001b[1;32m-> 1007\u001b[0m     \u001b[38;5;28;01mreturn\u001b[39;00m \u001b[38;5;28mself\u001b[39m\u001b[38;5;241m.\u001b[39m_get_value(key)\n\u001b[0;32m   1009\u001b[0m \u001b[38;5;28;01mif\u001b[39;00m is_hashable(key):\n\u001b[0;32m   1010\u001b[0m     \u001b[38;5;66;03m# Otherwise index.get_value will raise InvalidIndexError\u001b[39;00m\n\u001b[0;32m   1011\u001b[0m     \u001b[38;5;28;01mtry\u001b[39;00m:\n\u001b[0;32m   1012\u001b[0m         \u001b[38;5;66;03m# For labels that don't resolve as scalars like tuples and frozensets\u001b[39;00m\n",
      "File \u001b[1;32m~\\anaconda3\\Lib\\site-packages\\pandas\\core\\series.py:1116\u001b[0m, in \u001b[0;36mSeries._get_value\u001b[1;34m(self, label, takeable)\u001b[0m\n\u001b[0;32m   1113\u001b[0m     \u001b[38;5;28;01mreturn\u001b[39;00m \u001b[38;5;28mself\u001b[39m\u001b[38;5;241m.\u001b[39m_values[label]\n\u001b[0;32m   1115\u001b[0m \u001b[38;5;66;03m# Similar to Index.get_value, but we do not fall back to positional\u001b[39;00m\n\u001b[1;32m-> 1116\u001b[0m loc \u001b[38;5;241m=\u001b[39m \u001b[38;5;28mself\u001b[39m\u001b[38;5;241m.\u001b[39mindex\u001b[38;5;241m.\u001b[39mget_loc(label)\n\u001b[0;32m   1118\u001b[0m \u001b[38;5;28;01mif\u001b[39;00m is_integer(loc):\n\u001b[0;32m   1119\u001b[0m     \u001b[38;5;28;01mreturn\u001b[39;00m \u001b[38;5;28mself\u001b[39m\u001b[38;5;241m.\u001b[39m_values[loc]\n",
      "File \u001b[1;32m~\\anaconda3\\Lib\\site-packages\\pandas\\core\\indexes\\range.py:349\u001b[0m, in \u001b[0;36mRangeIndex.get_loc\u001b[1;34m(self, key)\u001b[0m\n\u001b[0;32m    347\u001b[0m         \u001b[38;5;28;01mraise\u001b[39;00m \u001b[38;5;167;01mKeyError\u001b[39;00m(key) \u001b[38;5;28;01mfrom\u001b[39;00m \u001b[38;5;21;01merr\u001b[39;00m\n\u001b[0;32m    348\u001b[0m \u001b[38;5;28;01mif\u001b[39;00m \u001b[38;5;28misinstance\u001b[39m(key, Hashable):\n\u001b[1;32m--> 349\u001b[0m     \u001b[38;5;28;01mraise\u001b[39;00m \u001b[38;5;167;01mKeyError\u001b[39;00m(key)\n\u001b[0;32m    350\u001b[0m \u001b[38;5;28mself\u001b[39m\u001b[38;5;241m.\u001b[39m_check_indexing_error(key)\n\u001b[0;32m    351\u001b[0m \u001b[38;5;28;01mraise\u001b[39;00m \u001b[38;5;167;01mKeyError\u001b[39;00m(key)\n",
      "\u001b[1;31mKeyError\u001b[0m: 'item_id'"
     ]
    }
   ],
   "source": [
    "movie_names = df['title']\n",
    "def recommend_movies(user_id, predicted_ratings, movie_names, missing_mark, top_n=5):\n",
    "    # Get user index - handle both 0-indexed and 1-indexed user_ids\n",
    "    user_idx = user_id - 1 if user_id > 0 and user_id <= len(missing_mark) else user_id\n",
    "    \n",
    "    # Find unrated movies and get top recommendations\n",
    "    unrated_indices = np.where(missing_mark[user_idx])[0]\n",
    "    if len(unrated_indices) == 0:\n",
    "        print(f\"User {user_id} has rated all movies!\")\n",
    "        return\n",
    "    \n",
    "    # Sort unrated movies by predicted rating (highest first)\n",
    "    top_indices = unrated_indices[np.argsort(predicted_ratings[user_idx][unrated_indices])[::-1]]\n",
    "    \n",
    "    print(f\"Top {top_n} recommendations for User {user_id}:\")\n",
    "    for idx in top_indices[:top_n]:\n",
    "        movie_id = moviePivot.columns[idx]  # Get actual movie ID\n",
    "        movie_name = movie_names[movie_names['item_id'] == movie_id]['title'].iloc[0]\n",
    "        print(f\"{movie_name} - Predicted rating: {predicted_ratings[user_idx][idx]:.2f}\")\n",
    "\n",
    "# Usage\n",
    "movie_ids = list(moviePivot.columns)\n",
    "recommend_movies(1, predicted_ratings, movie_names, missing_mark, top_n=5)"
   ]
  },
  {
   "cell_type": "code",
   "execution_count": null,
   "id": "779be04a",
   "metadata": {},
   "outputs": [],
   "source": []
  }
 ],
 "metadata": {
  "kernelspec": {
   "display_name": "Python 3 (ipykernel)",
   "language": "python",
   "name": "python3"
  },
  "language_info": {
   "codemirror_mode": {
    "name": "ipython",
    "version": 3
   },
   "file_extension": ".py",
   "mimetype": "text/x-python",
   "name": "python",
   "nbconvert_exporter": "python",
   "pygments_lexer": "ipython3",
   "version": "3.11.5"
  }
 },
 "nbformat": 4,
 "nbformat_minor": 5
}
